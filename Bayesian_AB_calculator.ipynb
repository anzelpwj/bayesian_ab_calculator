{
 "cells": [
  {
   "cell_type": "markdown",
   "metadata": {},
   "source": [
    "# Bayesian binomial AB test calculator\n",
    "\n",
    "Instructions: Press the Run button above to set the notebook up. There will be several interactive elements (noted as \"interactive\") where you can input parameters and get output."
   ]
  },
  {
   "cell_type": "code",
   "execution_count": 1,
   "metadata": {},
   "outputs": [],
   "source": [
    "import numpy as np\n",
    "from scipy.stats import beta as betadist\n",
    "import matplotlib.pyplot as plt\n",
    "from ipywidgets import interact\n",
    "import ipywidgets as widgets\n",
    "\n",
    "%matplotlib inline"
   ]
  },
  {
   "cell_type": "markdown",
   "metadata": {},
   "source": [
    "## Get $\\alpha$ and $\\beta$ parameters for Beta distribution\n",
    "\n",
    "Uses method of moments"
   ]
  },
  {
   "cell_type": "code",
   "execution_count": 2,
   "metadata": {},
   "outputs": [],
   "source": [
    "def compute_alpha_beta(mu, sigma):\n",
    "    \"\"\"Method of moments calculation of Beta distribution parameters\"\"\"\n",
    "    try:\n",
    "        mu = float(mu)\n",
    "        sigma = float(sigma)\n",
    "    except:\n",
    "        print(\"Need to give valid floating point numbers\")\n",
    "        return\n",
    "    if not 0 < mu < 1:\n",
    "        print(\"Need to give mu in a the range (0, 1)\")\n",
    "        return\n",
    "    if not 0 < sigma < 1:\n",
    "        print(\"Need to give sigma in a the range (0, 1)\")\n",
    "        return\n",
    "    alpha = -mu + ((1 - mu)*mu**2)/(sigma**2)\n",
    "    beta = -alpha + (alpha/mu)\n",
    "    print(\"alpha: %.2f, beta: %.2f\" % (alpha, beta))"
   ]
  },
  {
   "cell_type": "markdown",
   "metadata": {},
   "source": [
    "### Interactive"
   ]
  },
  {
   "cell_type": "code",
   "execution_count": 3,
   "metadata": {},
   "outputs": [
    {
     "data": {
      "application/vnd.jupyter.widget-view+json": {
       "model_id": "3cf9bd44c0c3462f8fbde1d040d9f8f1",
       "version_major": 2,
       "version_minor": 0
      },
      "text/plain": [
       "interactive(children=(Text(value='0.2', description='mu'), Text(value='0.03', description='sigma'), Output()),…"
      ]
     },
     "metadata": {},
     "output_type": "display_data"
    }
   ],
   "source": [
    "interact(compute_alpha_beta, mu='0.2', sigma='0.03');"
   ]
  },
  {
   "cell_type": "markdown",
   "metadata": {},
   "source": [
    "## Plot Beta distributions - prior and posterior"
   ]
  },
  {
   "cell_type": "code",
   "execution_count": 4,
   "metadata": {},
   "outputs": [],
   "source": [
    "def plot_betas(alpha, beta, successes, total_samples):\n",
    "    alpha = float(alpha)\n",
    "    beta = float(beta)\n",
    "    successes = float(successes)\n",
    "    total_samples = float(total_samples)\n",
    "    \n",
    "    x = np.linspace(0, 1.0, 1000)\n",
    "    y1 = betadist.pdf(x, alpha, beta)\n",
    "    y2 = betadist.pdf(x, alpha + successes, beta + (total_samples - successes))\n",
    "    \n",
    "    plt.figure(figsize=(4,4), dpi=300)\n",
    "    plt.plot(x, y1, linewidth=2, color='k', linestyle=':', label='Prior')\n",
    "    plt.plot(x, y2, linewidth=2, color='r', label='Posterior')\n",
    "\n",
    "    plt.legend(fontsize=16)\n",
    "    \n",
    "    plt.show()"
   ]
  },
  {
   "cell_type": "markdown",
   "metadata": {},
   "source": [
    "### Interactive"
   ]
  },
  {
   "cell_type": "code",
   "execution_count": 5,
   "metadata": {},
   "outputs": [
    {
     "data": {
      "application/vnd.jupyter.widget-view+json": {
       "model_id": "3544839cb5ac469db693a5b2f4812390",
       "version_major": 2,
       "version_minor": 0
      },
      "text/plain": [
       "interactive(children=(Text(value='35.36', description='alpha'), Text(value='141.42', description='beta'), Text…"
      ]
     },
     "metadata": {},
     "output_type": "display_data"
    }
   ],
   "source": [
    "interact(\n",
    "    plot_betas,\n",
    "    alpha='35.36',\n",
    "    beta='141.42',\n",
    "    successes='45',\n",
    "    total_samples='200');"
   ]
  },
  {
   "cell_type": "markdown",
   "metadata": {},
   "source": [
    "## Chance option A is better than option B"
   ]
  },
  {
   "cell_type": "code",
   "execution_count": 6,
   "metadata": {},
   "outputs": [],
   "source": [
    "def chance_option_A_true(s_a, n_a, s_b, n_b, alpha, beta, x_steps=5000):\n",
    "    \"\"\"\n",
    "    Inputs:\n",
    "    - s_a: Number of succeses for option A\n",
    "    - n_a: Number of total samples for option A\n",
    "    - s_b: Number of successes for option B\n",
    "    - n_b: Number of total samples for option B\n",
    "    - alpha: Alpha\n",
    "    - beta: Beta\n",
    "    - x_steps: Number of steps for numerical integral\n",
    "    \"\"\"\n",
    "    s_a = float(s_a)\n",
    "    s_b = float(s_b)\n",
    "    n_a = float(n_a)\n",
    "    n_b = float(n_b)\n",
    "    a = float(alpha)\n",
    "    b = float(beta)\n",
    "    \n",
    "    f_a = n_a - s_a\n",
    "    f_b = n_b - s_b\n",
    "    x = np.linspace(0, 1, num=x_steps, endpoint=False)\n",
    "    dx = x[1] - x[0]\n",
    "    beta_a = betadist.pdf(x, a + s_a, b + f_a)\n",
    "    beta_b = betadist.pdf(x, a + s_b, b + f_b)\n",
    "    \n",
    "    array = np.outer(beta_a, beta_b)\n",
    "    array = np.tril(array)  # Mask out upper-triangular bit\n",
    "    total = array.sum().sum()*dx**2\n",
    "\n",
    "    print(\"Chance A >= B %.2f%%\" % (100*total))"
   ]
  },
  {
   "cell_type": "markdown",
   "metadata": {},
   "source": [
    "### Interactive"
   ]
  },
  {
   "cell_type": "code",
   "execution_count": 7,
   "metadata": {},
   "outputs": [
    {
     "data": {
      "application/vnd.jupyter.widget-view+json": {
       "model_id": "da60c4bcc4d746aaa9193907e9c4d8ac",
       "version_major": 2,
       "version_minor": 0
      },
      "text/plain": [
       "interactive(children=(Text(value='45', description='s_a'), Text(value='200', description='n_a'), Text(value='4…"
      ]
     },
     "metadata": {},
     "output_type": "display_data"
    }
   ],
   "source": [
    "interact(\n",
    "    chance_option_A_true,\n",
    "    s_a='45',\n",
    "    n_a='200',\n",
    "    s_b='40',\n",
    "    n_b='200',\n",
    "    alpha='35.36',\n",
    "    beta='141.42',\n",
    "    x_steps=5000);"
   ]
  },
  {
   "cell_type": "markdown",
   "metadata": {},
   "source": [
    "## Expected risk when choosing option A"
   ]
  },
  {
   "cell_type": "code",
   "execution_count": 8,
   "metadata": {},
   "outputs": [],
   "source": [
    "def loss_option_A(s_a, n_a, s_b, n_b, alpha, beta, x_steps=5000):\n",
    "    \"\"\"\n",
    "    Inputs:\n",
    "    - s_a: Number of succeses for option A\n",
    "    - n_a: Number of total samples for option A\n",
    "    - s_b: Number of successes for option B\n",
    "    - n_b: Number of total samples for option B\n",
    "    - alpha: Alpha\n",
    "    - beta: Beta\n",
    "    - x_steps: Number of steps for numerical integral\n",
    "    \"\"\"\n",
    "    s_a = float(s_a)\n",
    "    s_b = float(s_b)\n",
    "    n_a = float(n_a)\n",
    "    n_b = float(n_b)\n",
    "    a = float(alpha)\n",
    "    b = float(beta)\n",
    "\n",
    "    f_a = n_a - s_a\n",
    "    f_b = n_b - s_b\n",
    "    x = np.linspace(0, 1, num=x_steps, endpoint=False)\n",
    "    dx = x[1] - x[0]\n",
    "    beta_a = betadist.pdf(x, a + s_a, b + f_a)\n",
    "    beta_b = betadist.pdf(x, a + s_b, b + f_b)\n",
    "    \n",
    "    joint_posterior = np.outer(beta_a, beta_b)\n",
    "    loss_error = np.fromfunction(lambda i, j: (j - i)*dx, (x_steps, x_steps))\n",
    "\n",
    "    loss_error = np.triu(loss_error)  # Mask out lower-triangular bit\n",
    "    final = joint_posterior * loss_error\n",
    "    \n",
    "    total = final.sum().sum()*dx**2\n",
    "\n",
    "    if total*100 >= 0.01:\n",
    "        print(\"Expected loss with option A: %.2f%%\" % (100*total))\n",
    "    else:\n",
    "        print(\"Expected loss with option A: %.2e%%\" % (100*total))"
   ]
  },
  {
   "cell_type": "markdown",
   "metadata": {},
   "source": [
    "### Interactive"
   ]
  },
  {
   "cell_type": "code",
   "execution_count": 9,
   "metadata": {},
   "outputs": [
    {
     "data": {
      "application/vnd.jupyter.widget-view+json": {
       "model_id": "7613bd0cfae746db96702e02ca5cdd2e",
       "version_major": 2,
       "version_minor": 0
      },
      "text/plain": [
       "interactive(children=(Text(value='45', description='s_a'), Text(value='200', description='n_a'), Text(value='4…"
      ]
     },
     "metadata": {},
     "output_type": "display_data"
    }
   ],
   "source": [
    "interact(\n",
    "    loss_option_A,\n",
    "    s_a='45',\n",
    "    n_a='200',\n",
    "    s_b='40',\n",
    "    n_b='200',\n",
    "    alpha='35.36',\n",
    "    beta='141.42',\n",
    "    x_steps=5000);"
   ]
  },
  {
   "cell_type": "code",
   "execution_count": null,
   "metadata": {},
   "outputs": [],
   "source": []
  }
 ],
 "metadata": {
  "kernelspec": {
   "display_name": "Python 3",
   "language": "python",
   "name": "python3"
  },
  "language_info": {
   "codemirror_mode": {
    "name": "ipython",
    "version": 3
   },
   "file_extension": ".py",
   "mimetype": "text/x-python",
   "name": "python",
   "nbconvert_exporter": "python",
   "pygments_lexer": "ipython3",
   "version": "3.6.7"
  }
 },
 "nbformat": 4,
 "nbformat_minor": 4
}
